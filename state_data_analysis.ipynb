{
 "cells": [
  {
   "cell_type": "code",
   "execution_count": 1,
   "metadata": {
    "collapsed": true
   },
   "outputs": [],
   "source": [
    "import csv\n",
    "import numpy as np \n",
    "import pandas as pd\n",
    "import matplotlib.pyplot as plt  \n",
    "from sklearn import datasets, linear_model  "
   ]
  },
  {
   "cell_type": "code",
   "execution_count": 2,
   "metadata": {},
   "outputs": [
    {
     "data": {
      "text/html": [
       "<div>\n",
       "<style>\n",
       "    .dataframe thead tr:only-child th {\n",
       "        text-align: right;\n",
       "    }\n",
       "\n",
       "    .dataframe thead th {\n",
       "        text-align: left;\n",
       "    }\n",
       "\n",
       "    .dataframe tbody tr th {\n",
       "        vertical-align: top;\n",
       "    }\n",
       "</style>\n",
       "<table border=\"1\" class=\"dataframe\">\n",
       "  <thead>\n",
       "    <tr style=\"text-align: right;\">\n",
       "      <th></th>\n",
       "      <th>State</th>\n",
       "      <th>Legal Aid Attorneys per capita</th>\n",
       "      <th>unsheltered homelessness ratio</th>\n",
       "      <th>ratio</th>\n",
       "      <th>rental price average</th>\n",
       "      <th>Gini coefficients</th>\n",
       "      <th>w/o health insurance%</th>\n",
       "      <th>POP_ST</th>\n",
       "      <th>POPPCT_URBAN</th>\n",
       "      <th>intercept</th>\n",
       "    </tr>\n",
       "  </thead>\n",
       "  <tbody>\n",
       "    <tr>\n",
       "      <th>0</th>\n",
       "      <td>Alabama</td>\n",
       "      <td>0.000025</td>\n",
       "      <td>0.000251</td>\n",
       "      <td>10.071921</td>\n",
       "      <td>0.655461</td>\n",
       "      <td>0.485</td>\n",
       "      <td>9.1</td>\n",
       "      <td>4779736</td>\n",
       "      <td>59.04</td>\n",
       "      <td>1.0</td>\n",
       "    </tr>\n",
       "    <tr>\n",
       "      <th>1</th>\n",
       "      <td>Alaska</td>\n",
       "      <td>0.000113</td>\n",
       "      <td>0.000600</td>\n",
       "      <td>5.286890</td>\n",
       "      <td>1.212974</td>\n",
       "      <td>0.408</td>\n",
       "      <td>14.0</td>\n",
       "      <td>710231</td>\n",
       "      <td>66.02</td>\n",
       "      <td>1.0</td>\n",
       "    </tr>\n",
       "    <tr>\n",
       "      <th>2</th>\n",
       "      <td>Arizona</td>\n",
       "      <td>0.000042</td>\n",
       "      <td>0.000482</td>\n",
       "      <td>11.413810</td>\n",
       "      <td>0.816850</td>\n",
       "      <td>0.471</td>\n",
       "      <td>10.0</td>\n",
       "      <td>6392017</td>\n",
       "      <td>89.81</td>\n",
       "      <td>1.0</td>\n",
       "    </tr>\n",
       "    <tr>\n",
       "      <th>3</th>\n",
       "      <td>Arkansas</td>\n",
       "      <td>0.000033</td>\n",
       "      <td>0.000286</td>\n",
       "      <td>8.578452</td>\n",
       "      <td>0.713312</td>\n",
       "      <td>0.472</td>\n",
       "      <td>7.9</td>\n",
       "      <td>2915918</td>\n",
       "      <td>56.16</td>\n",
       "      <td>1.0</td>\n",
       "    </tr>\n",
       "    <tr>\n",
       "      <th>4</th>\n",
       "      <td>California</td>\n",
       "      <td>0.000044</td>\n",
       "      <td>0.002020</td>\n",
       "      <td>45.891819</td>\n",
       "      <td>1.640888</td>\n",
       "      <td>0.490</td>\n",
       "      <td>7.3</td>\n",
       "      <td>37253956</td>\n",
       "      <td>94.95</td>\n",
       "      <td>1.0</td>\n",
       "    </tr>\n",
       "  </tbody>\n",
       "</table>\n",
       "</div>"
      ],
      "text/plain": [
       "        State  Legal Aid Attorneys per capita  unsheltered homelessness ratio  \\\n",
       "0     Alabama                        0.000025                        0.000251   \n",
       "1      Alaska                        0.000113                        0.000600   \n",
       "2     Arizona                        0.000042                        0.000482   \n",
       "3    Arkansas                        0.000033                        0.000286   \n",
       "4  California                        0.000044                        0.002020   \n",
       "\n",
       "       ratio  rental price average  Gini coefficients  w/o health insurance%  \\\n",
       "0  10.071921              0.655461              0.485                    9.1   \n",
       "1   5.286890              1.212974              0.408                   14.0   \n",
       "2  11.413810              0.816850              0.471                   10.0   \n",
       "3   8.578452              0.713312              0.472                    7.9   \n",
       "4  45.891819              1.640888              0.490                    7.3   \n",
       "\n",
       "     POP_ST  POPPCT_URBAN  intercept  \n",
       "0   4779736         59.04        1.0  \n",
       "1    710231         66.02        1.0  \n",
       "2   6392017         89.81        1.0  \n",
       "3   2915918         56.16        1.0  \n",
       "4  37253956         94.95        1.0  "
      ]
     },
     "execution_count": 2,
     "metadata": {},
     "output_type": "execute_result"
    }
   ],
   "source": [
    "data = pd.read_csv('data_state.csv',sep=',') \n",
    "data['intercept'] = 1.0\n",
    "data.head()"
   ]
  },
  {
   "cell_type": "code",
   "execution_count": 3,
   "metadata": {},
   "outputs": [
    {
     "data": {
      "text/html": [
       "<div>\n",
       "<style>\n",
       "    .dataframe thead tr:only-child th {\n",
       "        text-align: right;\n",
       "    }\n",
       "\n",
       "    .dataframe thead th {\n",
       "        text-align: left;\n",
       "    }\n",
       "\n",
       "    .dataframe tbody tr th {\n",
       "        vertical-align: top;\n",
       "    }\n",
       "</style>\n",
       "<table border=\"1\" class=\"dataframe\">\n",
       "  <thead>\n",
       "    <tr style=\"text-align: right;\">\n",
       "      <th></th>\n",
       "      <th>Legal Aid Attorneys per capita</th>\n",
       "      <th>unsheltered homelessness ratio</th>\n",
       "      <th>ratio</th>\n",
       "      <th>rental price average</th>\n",
       "      <th>Gini coefficients</th>\n",
       "      <th>w/o health insurance%</th>\n",
       "      <th>POP_ST</th>\n",
       "      <th>POPPCT_URBAN</th>\n",
       "      <th>intercept</th>\n",
       "    </tr>\n",
       "  </thead>\n",
       "  <tbody>\n",
       "    <tr>\n",
       "      <th>count</th>\n",
       "      <td>51.000000</td>\n",
       "      <td>51.000000</td>\n",
       "      <td>51.000000</td>\n",
       "      <td>51.000000</td>\n",
       "      <td>51.000000</td>\n",
       "      <td>51.00000</td>\n",
       "      <td>5.100000e+01</td>\n",
       "      <td>51.000000</td>\n",
       "      <td>51.0</td>\n",
       "    </tr>\n",
       "    <tr>\n",
       "      <th>mean</th>\n",
       "      <td>0.000079</td>\n",
       "      <td>0.000415</td>\n",
       "      <td>7.678371</td>\n",
       "      <td>1.071710</td>\n",
       "      <td>0.468294</td>\n",
       "      <td>7.90000</td>\n",
       "      <td>6.053834e+06</td>\n",
       "      <td>74.099804</td>\n",
       "      <td>1.0</td>\n",
       "    </tr>\n",
       "    <tr>\n",
       "      <th>std</th>\n",
       "      <td>0.000129</td>\n",
       "      <td>0.000572</td>\n",
       "      <td>8.774832</td>\n",
       "      <td>0.439878</td>\n",
       "      <td>0.027864</td>\n",
       "      <td>3.04447</td>\n",
       "      <td>6.823984e+06</td>\n",
       "      <td>14.885178</td>\n",
       "      <td>0.0</td>\n",
       "    </tr>\n",
       "    <tr>\n",
       "      <th>min</th>\n",
       "      <td>0.000024</td>\n",
       "      <td>0.000035</td>\n",
       "      <td>0.478821</td>\n",
       "      <td>0.655461</td>\n",
       "      <td>0.408000</td>\n",
       "      <td>2.50000</td>\n",
       "      <td>5.636260e+05</td>\n",
       "      <td>38.660000</td>\n",
       "      <td>1.0</td>\n",
       "    </tr>\n",
       "    <tr>\n",
       "      <th>25%</th>\n",
       "      <td>0.000037</td>\n",
       "      <td>0.000106</td>\n",
       "      <td>1.867531</td>\n",
       "      <td>0.802998</td>\n",
       "      <td>0.452000</td>\n",
       "      <td>5.60000</td>\n",
       "      <td>1.696962e+06</td>\n",
       "      <td>65.390000</td>\n",
       "      <td>1.0</td>\n",
       "    </tr>\n",
       "    <tr>\n",
       "      <th>50%</th>\n",
       "      <td>0.000047</td>\n",
       "      <td>0.000232</td>\n",
       "      <td>4.284071</td>\n",
       "      <td>0.930944</td>\n",
       "      <td>0.468000</td>\n",
       "      <td>8.00000</td>\n",
       "      <td>4.339367e+06</td>\n",
       "      <td>74.200000</td>\n",
       "      <td>1.0</td>\n",
       "    </tr>\n",
       "    <tr>\n",
       "      <th>75%</th>\n",
       "      <td>0.000073</td>\n",
       "      <td>0.000470</td>\n",
       "      <td>11.030929</td>\n",
       "      <td>1.180264</td>\n",
       "      <td>0.479500</td>\n",
       "      <td>9.60000</td>\n",
       "      <td>6.636084e+06</td>\n",
       "      <td>87.535000</td>\n",
       "      <td>1.0</td>\n",
       "    </tr>\n",
       "    <tr>\n",
       "      <th>max</th>\n",
       "      <td>0.000933</td>\n",
       "      <td>0.003035</td>\n",
       "      <td>45.891819</td>\n",
       "      <td>2.866655</td>\n",
       "      <td>0.590000</td>\n",
       "      <td>16.60000</td>\n",
       "      <td>3.725396e+07</td>\n",
       "      <td>100.000000</td>\n",
       "      <td>1.0</td>\n",
       "    </tr>\n",
       "  </tbody>\n",
       "</table>\n",
       "</div>"
      ],
      "text/plain": [
       "       Legal Aid Attorneys per capita  unsheltered homelessness ratio  \\\n",
       "count                       51.000000                       51.000000   \n",
       "mean                         0.000079                        0.000415   \n",
       "std                          0.000129                        0.000572   \n",
       "min                          0.000024                        0.000035   \n",
       "25%                          0.000037                        0.000106   \n",
       "50%                          0.000047                        0.000232   \n",
       "75%                          0.000073                        0.000470   \n",
       "max                          0.000933                        0.003035   \n",
       "\n",
       "           ratio  rental price average  Gini coefficients  \\\n",
       "count  51.000000             51.000000          51.000000   \n",
       "mean    7.678371              1.071710           0.468294   \n",
       "std     8.774832              0.439878           0.027864   \n",
       "min     0.478821              0.655461           0.408000   \n",
       "25%     1.867531              0.802998           0.452000   \n",
       "50%     4.284071              0.930944           0.468000   \n",
       "75%    11.030929              1.180264           0.479500   \n",
       "max    45.891819              2.866655           0.590000   \n",
       "\n",
       "       w/o health insurance%        POP_ST  POPPCT_URBAN  intercept  \n",
       "count               51.00000  5.100000e+01     51.000000       51.0  \n",
       "mean                 7.90000  6.053834e+06     74.099804        1.0  \n",
       "std                  3.04447  6.823984e+06     14.885178        0.0  \n",
       "min                  2.50000  5.636260e+05     38.660000        1.0  \n",
       "25%                  5.60000  1.696962e+06     65.390000        1.0  \n",
       "50%                  8.00000  4.339367e+06     74.200000        1.0  \n",
       "75%                  9.60000  6.636084e+06     87.535000        1.0  \n",
       "max                 16.60000  3.725396e+07    100.000000        1.0  "
      ]
     },
     "execution_count": 3,
     "metadata": {},
     "output_type": "execute_result"
    }
   ],
   "source": [
    "data.describe()"
   ]
  },
  {
   "cell_type": "code",
   "execution_count": 4,
   "metadata": {
    "collapsed": true
   },
   "outputs": [],
   "source": [
    "#independent_factors = ['rental price average','Gini coefficients','w/o health insurance%','POP_ST','POPPCT_URBAN','intercept']\n",
    "independent_factors = ['rental price average','Gini coefficients','w/o health insurance%','POP_ST','POPPCT_URBAN']\n",
    "independent_factors_l = ['Legal Aid Attorneys per capita','rental price average','Gini coefficients','w/o health insurance%','POP_ST','POPPCT_URBAN']\n",
    "independent_factors_h = ['unsheltered homelessness ratio','rental price average','Gini coefficients','w/o health insurance%','POP_ST','POPPCT_URBAN']\n",
    "X = data[independent_factors]\n",
    "X_l = data[independent_factors_l]\n",
    "X_h = data[independent_factors_h]"
   ]
  },
  {
   "cell_type": "code",
   "execution_count": 22,
   "metadata": {
    "collapsed": true
   },
   "outputs": [],
   "source": [
    "y_legal = data['Legal Aid Attorneys per capita']\n",
    "y_homeless = data['unsheltered homelessness ratio']\n",
    "y_ratio = data['ratio']\n",
    "\n",
    "a = ['Legal Aid Attorneys per capita','intercept']\n",
    "b = ['unsheltered homelessness ratio','intercept']\n",
    "y_legal_intercept = data[a]\n",
    "y_homeless_intercept = data[b]"
   ]
  },
  {
   "cell_type": "code",
   "execution_count": 74,
   "metadata": {},
   "outputs": [
    {
     "data": {
      "text/plain": [
       "<matplotlib.figure.Figure at 0x26b64e86d68>"
      ]
     },
     "metadata": {},
     "output_type": "display_data"
    },
    {
     "data": {
      "image/png": "[encoded data removed]",
      "text/plain": [
       "<matplotlib.figure.Figure at 0x26b6504d8d0>"
      ]
     },
     "metadata": {},
     "output_type": "display_data"
    }
   ],
   "source": [
    "from mpl_toolkits.mplot3d import Axes3D\n",
    "fig = plt.figure()\n",
    "ax = Axes3D(fig)\n",
    "ax.scatter(y_legal, y_homeless, y_ratio, color='#ef1234')\n",
    "plt.show()"
   ]
  },
  {
   "cell_type": "code",
   "execution_count": 23,
   "metadata": {},
   "outputs": [],
   "source": [
    "from sklearn.cross_validation import train_test_split\n",
    "X_train, X_test= train_test_split(X, test_size=0.2, random_state=0)\n",
    "X_train_l, X_test_l= train_test_split(X_l, test_size=0.2, random_state=0)\n",
    "X_train_h, X_test_h= train_test_split(X_h, test_size=0.2, random_state=0)\n",
    "y_train_homeless, y_test_homeless = train_test_split(y_homeless, test_size=0.2, random_state=0)\n",
    "y_train_legal, y_test_legal = train_test_split(y_legal, test_size=0.2, random_state=0)\n",
    "y_train_ratio, y_test_ratio = train_test_split(y_ratio, test_size=0.2, random_state=0)\n",
    "y_train_legal_intercept,y_test_legal_intercept = train_test_split(y_legal_intercept, test_size=0.2, random_state=0)\n",
    "y_train_homeless_intercept,y_test_homeless_intercept = train_test_split(y_homeless_intercept, test_size=0.2, random_state=0)"
   ]
  },
  {
   "cell_type": "code",
   "execution_count": 15,
   "metadata": {},
   "outputs": [
    {
     "name": "stdout",
     "output_type": "stream",
     "text": [
      "40\n",
      "11\n",
      "40\n",
      "11\n",
      "40\n",
      "11\n",
      "40\n",
      "11\n",
      "40\n",
      "11\n",
      "40\n",
      "11\n"
     ]
    }
   ],
   "source": [
    "print(len(y_train_homeless))\n",
    "print(len(y_test_homeless))\n",
    "print(len(y_train_legal))\n",
    "print(len(y_test_legal))\n",
    "print(len(y_train_ratio))\n",
    "print(len(y_test_ratio))\n",
    "print(len(X_train))\n",
    "print(len(X_test))\n",
    "print(len(X_train_l))\n",
    "print(len(X_test_l))\n",
    "print(len(X_train_h))\n",
    "print(len(X_test_h))"
   ]
  },
  {
   "cell_type": "code",
   "execution_count": 62,
   "metadata": {
    "collapsed": true
   },
   "outputs": [],
   "source": [
    "L = data['Legal Aid Attorneys per capita'].values * 10000\n",
    "H = data['unsheltered homelessness ratio'].values *10000"
   ]
  },
  {
   "cell_type": "code",
   "execution_count": 75,
   "metadata": {},
   "outputs": [
    {
     "name": "stdout",
     "output_type": "stream",
     "text": [
      "0.278396025967 3.93009201546\n"
     ]
    }
   ],
   "source": [
    "mean_l = np.mean(L)\n",
    "mean_h = np.mean(H)\n",
    "\n",
    "# Total number of values\n",
    "m = len(L)\n",
    "\n",
    "# Using the formula to calculate b1 and b2\n",
    "numer = 0\n",
    "denom = 0\n",
    "for i in range(m):\n",
    "    numer += (L[i] - mean_l) * (H[i] - mean_h)\n",
    "    denom += (L[i] - mean_l) ** 2\n",
    "b1 = numer / denom\n",
    "b0 = mean_h - (b1 * mean_l)\n",
    "\n",
    "# Print coefficients\n",
    "print(b1, b0)"
   ]
  },
  {
   "cell_type": "code",
   "execution_count": 68,
   "metadata": {},
   "outputs": [
    {
     "data": {
      "image/png": "[encoded data removed]",
      "text/plain": [
       "<matplotlib.figure.Figure at 0x26b652d0828>"
      ]
     },
     "metadata": {},
     "output_type": "display_data"
    }
   ],
   "source": [
    "max_l = np.max(L)+10\n",
    "min_l = np.min(L)-10\n",
    "\n",
    "# Calculating line values x and y\n",
    "l = np.linspace(min_l, max_l, 1000)\n",
    "h = b0 + b1 * l\n",
    "\n",
    "# Ploting Line\n",
    "plt.plot(l, h, color='#58b970', label='Regression Line')\n",
    "# Ploting Scatter Points\n",
    "plt.scatter(L, H, c='#ef5423', label='Scatter Plot')\n",
    "\n",
    "plt.xlabel('Head Size in cm3')\n",
    "plt.ylabel('Brain Weight in grams')\n",
    "plt.legend()\n",
    "plt.show()"
   ]
  },
  {
   "cell_type": "code",
   "execution_count": 76,
   "metadata": {},
   "outputs": [],
   "source": [
    "model = linear_model.LinearRegression()\n",
    "result_2 = model.fit(y_train_legal_intercept, y_train_homeless)"
   ]
  },
  {
   "cell_type": "code",
   "execution_count": 87,
   "metadata": {},
   "outputs": [
    {
     "name": "stdout",
     "output_type": "stream",
     "text": [
      "1.07837996493e-06\n"
     ]
    }
   ],
   "source": [
    "from sklearn.metrics import mean_squared_error\n",
    "y_predict_homeless = result_2.predict(y_test_legal_intercept)\n",
    "MSE_1 = mean_squared_error(y_predict_homeless, y_test_homeless)\n",
    "print (MSE_1)"
   ]
  },
  {
   "cell_type": "code",
   "execution_count": 86,
   "metadata": {},
   "outputs": [
    {
     "name": "stdout",
     "output_type": "stream",
     "text": [
      "                                  OLS Regression Results                                  \n",
      "==========================================================================================\n",
      "Dep. Variable:     Legal Aid Attorneys per capita   R-squared:                       0.693\n",
      "Model:                                        OLS   Adj. R-squared:                  0.639\n",
      "Method:                             Least Squares   F-statistic:                     12.78\n",
      "Date:                            Tue, 10 Apr 2018   Prob (F-statistic):           1.66e-07\n",
      "Time:                                    12:21:05   Log-Likelihood:                 316.12\n",
      "No. Observations:                              40   AIC:                            -620.2\n",
      "Df Residuals:                                  34   BIC:                            -610.1\n",
      "Df Model:                                       6                                         \n",
      "Covariance Type:                        nonrobust                                         \n",
      "==================================================================================================\n",
      "                                     coef    std err          t      P>|t|      [0.025      0.975]\n",
      "--------------------------------------------------------------------------------------------------\n",
      "unsheltered homelessness ratio     0.0248      0.044      0.563      0.577      -0.065       0.114\n",
      "rental price average               0.0003   4.95e-05      5.522      0.000       0.000       0.000\n",
      "Gini coefficients                 -0.0003      0.000     -1.161      0.254      -0.001       0.000\n",
      "w/o health insurance%           1.679e-06    5.8e-06      0.290      0.774   -1.01e-05    1.35e-05\n",
      "POP_ST                         -3.587e-12   3.54e-12     -1.012      0.319   -1.08e-11    3.61e-12\n",
      "POPPCT_URBAN                   -1.115e-06   1.49e-06     -0.751      0.458   -4.13e-06     1.9e-06\n",
      "==============================================================================\n",
      "Omnibus:                       25.202   Durbin-Watson:                   1.998\n",
      "Prob(Omnibus):                  0.000   Jarque-Bera (JB):              217.697\n",
      "Skew:                           0.721   Prob(JB):                     5.34e-48\n",
      "Kurtosis:                      14.337   Cond. No.                     2.08e+10\n",
      "==============================================================================\n",
      "\n",
      "Warnings:\n",
      "[1] Standard Errors assume that the covariance matrix of the errors is correctly specified.\n",
      "[2] The condition number is large, 2.08e+10. This might indicate that there are\n",
      "strong multicollinearity or other numerical problems.\n",
      "The MSE of OLS on the legal aid ratio test is 0.000000.\n"
     ]
    }
   ],
   "source": [
    "#OLS for legal, X includes homeless\n",
    "import statsmodels.api as sm\n",
    "from sklearn.metrics import mean_squared_error\n",
    "model_legal = sm.OLS(y_train_legal, X_train_h)\n",
    "results_legal = model_legal.fit()\n",
    "print(results_legal.summary())\n",
    "\n",
    "y_pred_legal = results_legal.predict(X_test_h)\n",
    "MSE_test_legal = mean_squared_error(y_test_legal, y_pred_legal)\n",
    "print ('The MSE of OLS on the legal aid ratio test is %f.'%(MSE_test_legal))"
   ]
  },
  {
   "cell_type": "code",
   "execution_count": 135,
   "metadata": {},
   "outputs": [
    {
     "name": "stdout",
     "output_type": "stream",
     "text": [
      "                                  OLS Regression Results                                  \n",
      "==========================================================================================\n",
      "Dep. Variable:     unsheltered homelessness ratio   R-squared:                       0.459\n",
      "Model:                                        OLS   Adj. R-squared:                  0.363\n",
      "Method:                             Least Squares   F-statistic:                     4.805\n",
      "Date:                            Mon, 09 Apr 2018   Prob (F-statistic):            0.00120\n",
      "Time:                                    16:10:41   Log-Likelihood:                 261.98\n",
      "No. Observations:                              40   AIC:                            -512.0\n",
      "Df Residuals:                                  34   BIC:                            -501.8\n",
      "Df Model:                                       6                                         \n",
      "Covariance Type:                        nonrobust                                         \n",
      "==================================================================================================\n",
      "                                     coef    std err          t      P>|t|      [0.025      0.975]\n",
      "--------------------------------------------------------------------------------------------------\n",
      "Legal Aid Attorneys per capita     0.3721      0.661      0.563      0.577      -0.971       1.715\n",
      "rental price average           -2.635e-05      0.000     -0.100      0.921      -0.001       0.001\n",
      "Gini coefficients                 -0.0004      0.001     -0.438      0.664      -0.002       0.001\n",
      "w/o health insurance%           2.343e-05   2.21e-05      1.060      0.296   -2.15e-05    6.84e-05\n",
      "POP_ST                         -4.443e-12   1.39e-11     -0.320      0.751   -3.27e-11    2.38e-11\n",
      "POPPCT_URBAN                    4.454e-06   5.75e-06      0.775      0.444   -7.23e-06    1.61e-05\n",
      "==============================================================================\n",
      "Omnibus:                       56.011   Durbin-Watson:                   2.000\n",
      "Prob(Omnibus):                  0.000   Jarque-Bera (JB):              348.992\n",
      "Skew:                           3.348   Prob(JB):                     1.65e-76\n",
      "Kurtosis:                      15.828   Cond. No.                     8.06e+10\n",
      "==============================================================================\n",
      "\n",
      "Warnings:\n",
      "[1] Standard Errors assume that the covariance matrix of the errors is correctly specified.\n",
      "[2] The condition number is large, 8.06e+10. This might indicate that there are\n",
      "strong multicollinearity or other numerical problems.\n",
      "The MSE of OLS on the homeless ratio test is 0.000001.\n"
     ]
    }
   ],
   "source": [
    "#OLS for homeless, X includes legal aid\n",
    "model_homeless = sm.OLS(y_train_homeless, X_train_l)\n",
    "results_homeless = model_homeless.fit()\n",
    "print(results_homeless.summary())\n",
    "\n",
    "y_pred_homeless = results_homeless.predict(X_test_l)\n",
    "MSE_test_homeless = mean_squared_error(y_test_homeless, y_pred_homeless)\n",
    "print ('The MSE of OLS on the homeless ratio test is %f.'%(MSE_test_homeless))"
   ]
  },
  {
   "cell_type": "code",
   "execution_count": 83,
   "metadata": {},
   "outputs": [
    {
     "name": "stdout",
     "output_type": "stream",
     "text": [
      "                            OLS Regression Results                            \n",
      "==============================================================================\n",
      "Dep. Variable:                  ratio   R-squared:                       0.624\n",
      "Model:                            OLS   Adj. R-squared:                  0.570\n",
      "Method:                 Least Squares   F-statistic:                     11.62\n",
      "Date:                Tue, 10 Apr 2018   Prob (F-statistic):           1.16e-06\n",
      "Time:                        12:19:30   Log-Likelihood:                -120.29\n",
      "No. Observations:                  40   AIC:                             250.6\n",
      "Df Residuals:                      35   BIC:                             259.0\n",
      "Df Model:                           5                                         \n",
      "Covariance Type:            nonrobust                                         \n",
      "=========================================================================================\n",
      "                            coef    std err          t      P>|t|      [0.025      0.975]\n",
      "-----------------------------------------------------------------------------------------\n",
      "rental price average     -1.7791      2.663     -0.668      0.509      -7.186       3.628\n",
      "Gini coefficients        11.0341     12.447      0.886      0.381     -14.234      36.302\n",
      "w/o health insurance%     0.5261      0.307      1.712      0.096      -0.098       1.150\n",
      "POP_ST                 6.062e-08   1.91e-07      0.318      0.752   -3.26e-07    4.48e-07\n",
      "POPPCT_URBAN             -0.0255      0.080     -0.321      0.750      -0.187       0.136\n",
      "==============================================================================\n",
      "Omnibus:                       17.656   Durbin-Watson:                   2.098\n",
      "Prob(Omnibus):                  0.000   Jarque-Bera (JB):               20.781\n",
      "Skew:                           1.534   Prob(JB):                     3.07e-05\n",
      "Kurtosis:                       4.746   Cond. No.                     1.09e+08\n",
      "==============================================================================\n",
      "\n",
      "Warnings:\n",
      "[1] Standard Errors assume that the covariance matrix of the errors is correctly specified.\n",
      "[2] The condition number is large, 1.09e+08. This might indicate that there are\n",
      "strong multicollinearity or other numerical problems.\n",
      "The MSE of OLS on the homeless ratio test is 263.304345.\n"
     ]
    }
   ],
   "source": [
    "model_ratio = sm.OLS(y_train_ratio, X_train)\n",
    "results_ratio = model_ratio.fit()\n",
    "print(results_ratio.summary())\n",
    "\n",
    "y_pred_ratio = results_ratio.predict(X_test)\n",
    "MSE_test_ratio = mean_squared_error(y_test_ratio, y_pred_ratio)\n",
    "print ('The MSE of OLS on the homeless ratio test is %f.'%(MSE_test_ratio))"
   ]
  }
 ],
 "metadata": {
  "kernelspec": {
   "display_name": "Python 3",
   "language": "python",
   "name": "python3"
  },
  "language_info": {
   "codemirror_mode": {
    "name": "ipython",
    "version": 3
   },
   "file_extension": ".py",
   "mimetype": "text/x-python",
   "name": "python",
   "nbconvert_exporter": "python",
   "pygments_lexer": "ipython3",
   "version": "3.6.2"
  }
 },
 "nbformat": 4,
 "nbformat_minor": 2
}
